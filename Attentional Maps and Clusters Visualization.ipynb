{
 "cells": [
  {
   "cell_type": "code",
   "execution_count": null,
   "id": "87cd1edd",
   "metadata": {},
   "outputs": [],
   "source": [
    "%matplotlib widget\n",
    "import os\n",
    "\n",
    "from PIL import Image\n",
    "import matplotlib.pyplot as plt\n",
    "from mpl_toolkits.mplot3d import Axes3D"
   ]
  },
  {
   "cell_type": "markdown",
   "id": "de969091",
   "metadata": {},
   "source": [
    "# Visualize Image and Attentional Maps"
   ]
  },
  {
   "cell_type": "code",
   "execution_count": null,
   "id": "a70e20b1",
   "metadata": {},
   "outputs": [],
   "source": [
    "IMAGE_PATH = '/media/dario/T7_Touch/SC22_Data/Single_Image_Attentional_Maps'\n",
    "image = Image.open(os.path.join(IMAGE_PATH, 'img.png'))\n",
    "plt.imshow(image)"
   ]
  },
  {
   "cell_type": "code",
   "execution_count": null,
   "id": "b50605ea",
   "metadata": {},
   "outputs": [],
   "source": [
    "att0_image = Image.open(os.path.join(IMAGE_PATH, 'attn-head0.png'))\n",
    "att1_image = Image.open(os.path.join(IMAGE_PATH, 'attn-head1.png'))\n",
    "att2_image = Image.open(os.path.join(IMAGE_PATH, 'attn-head2.png'))\n",
    "att3_image = Image.open(os.path.join(IMAGE_PATH, 'attn-head3.png'))\n",
    "att4_image = Image.open(os.path.join(IMAGE_PATH, 'attn-head4.png'))\n",
    "att5_image = Image.open(os.path.join(IMAGE_PATH, 'attn-head5.png'))\n",
    "mask0_image = Image.open(os.path.join(IMAGE_PATH, 'mask_th_head0.png'))\n",
    "mask1_image = Image.open(os.path.join(IMAGE_PATH, 'mask_th_head1.png'))\n",
    "mask2_image = Image.open(os.path.join(IMAGE_PATH, 'mask_th_head2.png'))\n",
    "mask3_image = Image.open(os.path.join(IMAGE_PATH, 'mask_th_head3.png'))\n",
    "mask4_image = Image.open(os.path.join(IMAGE_PATH, 'mask_th_head4.png'))\n",
    "mask5_image = Image.open(os.path.join(IMAGE_PATH, 'mask_th_head5.png'))\n",
    "f = plt.figure(figsize=(5,15))\n",
    "att00 = f.add_subplot(6,2,1)\n",
    "att00.imshow(att0_image)\n",
    "att00.axes.get_xaxis().set_visible(False)\n",
    "att00.axes.get_yaxis().set_visible(False)\n",
    "att01 = f.add_subplot(6,2,2)\n",
    "att01.imshow(mask0_image)\n",
    "att01.axes.get_xaxis().set_visible(False)\n",
    "att01.axes.get_yaxis().set_visible(False)\n",
    "\n",
    "att10 = f.add_subplot(6,2,3)\n",
    "att10.imshow(att1_image)\n",
    "att10.axes.get_xaxis().set_visible(False)\n",
    "att10.axes.get_yaxis().set_visible(False)\n",
    "att11 = f.add_subplot(6,2,4)\n",
    "att11.imshow(mask1_image)\n",
    "att11.axes.get_xaxis().set_visible(False)\n",
    "att11.axes.get_yaxis().set_visible(False)\n",
    "\n",
    "att20 = f.add_subplot(6,2,5)\n",
    "att20.imshow(att2_image)\n",
    "att20.axes.get_xaxis().set_visible(False)\n",
    "att20.axes.get_yaxis().set_visible(False)\n",
    "att21 = f.add_subplot(6,2,6)\n",
    "att21.imshow(mask2_image)\n",
    "att21.axes.get_xaxis().set_visible(False)\n",
    "att21.axes.get_yaxis().set_visible(False)\n",
    "\n",
    "att30 = f.add_subplot(6,2,7)\n",
    "att30.imshow(att3_image)\n",
    "att30.axes.get_xaxis().set_visible(False)\n",
    "att30.axes.get_yaxis().set_visible(False)\n",
    "att31 = f.add_subplot(6,2,8)\n",
    "att31.imshow(mask3_image)\n",
    "att31.axes.get_xaxis().set_visible(False)\n",
    "att31.axes.get_yaxis().set_visible(False)\n",
    "\n",
    "att40 = f.add_subplot(6,2,9)\n",
    "att40.imshow(att4_image)\n",
    "att40.axes.get_xaxis().set_visible(False)\n",
    "att40.axes.get_yaxis().set_visible(False)\n",
    "att41 = f.add_subplot(6,2,10)\n",
    "att41.imshow(mask4_image)\n",
    "att41.axes.get_xaxis().set_visible(False)\n",
    "att41.axes.get_yaxis().set_visible(False)\n",
    "\n",
    "att50 = f.add_subplot(6,2,11)\n",
    "att50.imshow(att5_image)\n",
    "att50.axes.get_xaxis().set_visible(False)\n",
    "att50.axes.get_yaxis().set_visible(False)\n",
    "att51 = f.add_subplot(6,2,12)\n",
    "att51.imshow(mask5_image)\n",
    "att51.axes.get_xaxis().set_visible(False)\n",
    "att51.axes.get_yaxis().set_visible(False)\n",
    "\n",
    "plt.show()"
   ]
  },
  {
   "cell_type": "markdown",
   "id": "bc0f18f3",
   "metadata": {},
   "source": [
    "# Now let's visualize the Clusterization\n",
    "\n",
    "Load the dimensionality reduction model saved in order to process the features from the single image"
   ]
  },
  {
   "cell_type": "code",
   "execution_count": null,
   "id": "569e8d82",
   "metadata": {},
   "outputs": [],
   "source": [
    "import torch\n",
    "import numpy as np\n",
    "\n",
    "from joblib import dump, load\n",
    "from sklearn.neighbors import KNeighborsClassifier"
   ]
  },
  {
   "cell_type": "code",
   "execution_count": null,
   "id": "3616d352",
   "metadata": {},
   "outputs": [],
   "source": [
    "dim_red_model = load('/media/dario/T7_Touch/SC22_Data/Clusters/dim_red_model')\n",
    "scale_model = load('/media/dario/T7_Touch/SC22_Data/Clusters/scale_model')"
   ]
  },
  {
   "cell_type": "markdown",
   "id": "25e09275",
   "metadata": {},
   "source": [
    "Now load the singular image features!"
   ]
  },
  {
   "cell_type": "code",
   "execution_count": null,
   "id": "fa05bd15",
   "metadata": {},
   "outputs": [],
   "source": [
    "single_img_feats = torch.load('/media/dario/T7_Touch/SC22_Data/Single_Image_Attentional_Maps/feats.pt',map_location=torch.device('cpu'))\n",
    "single_img_feats = scale_model.transform(single_img_feats)\n",
    "single_img_feats.shape"
   ]
  },
  {
   "cell_type": "markdown",
   "id": "6c398c5d",
   "metadata": {},
   "source": [
    "Now reduce the features dimensionality"
   ]
  },
  {
   "cell_type": "code",
   "execution_count": null,
   "id": "d99810a0",
   "metadata": {},
   "outputs": [],
   "source": [
    "singular_sample = dim_red_model.transform(single_img_feats)\n",
    "singular_sample.shape"
   ]
  },
  {
   "cell_type": "markdown",
   "id": "c5b8f0ee",
   "metadata": {},
   "source": [
    "Load the clusters generated from the features"
   ]
  },
  {
   "cell_type": "code",
   "execution_count": null,
   "id": "06ae8967",
   "metadata": {},
   "outputs": [],
   "source": [
    "clusters = np.load('/media/dario/T7_Touch/SC22_Data/Clusters/clusters.npy', allow_pickle=True)\n",
    "vectors=clusters[()]['x']\n",
    "labels=clusters[()]['y']"
   ]
  },
  {
   "cell_type": "markdown",
   "id": "82578d20",
   "metadata": {},
   "source": [
    "Let's check the number of clusters in labels, ignoring noise if present."
   ]
  },
  {
   "cell_type": "code",
   "execution_count": null,
   "id": "34e6f05d",
   "metadata": {},
   "outputs": [],
   "source": [
    "n_clusters_ = len(set(labels)) - (1 if -1 in labels else 0)\n",
    "n_noise_ = list(labels).count(-1)\n",
    "print(\"Estimated number of clusters: %d\" % n_clusters_)\n",
    "print(\"Estimated number of noise points: %d\" % n_noise_)"
   ]
  },
  {
   "cell_type": "markdown",
   "id": "6847dfeb",
   "metadata": {},
   "source": [
    "Plot a sample of points from the data set"
   ]
  },
  {
   "cell_type": "code",
   "execution_count": null,
   "id": "3246d09b",
   "metadata": {},
   "outputs": [],
   "source": [
    "def choose_random_rows(an_array, n_samples):\n",
    "    number_of_rows = an_array.shape[0]\n",
    "    random_indices = np.random.choice(number_of_rows, size=n_samples, replace=False)\n",
    "    random_rows = an_array[random_indices, :]\n",
    "    return random_rows\n",
    "\n",
    "X = choose_random_rows(vectors,5000)\n",
    "n_components=X.shape[1]"
   ]
  },
  {
   "cell_type": "code",
   "execution_count": null,
   "id": "809a7e60",
   "metadata": {
    "scrolled": false
   },
   "outputs": [],
   "source": [
    "if n_components == 2:\n",
    "    fig = plt.figure(figsize=(8,8))\n",
    "    ax = fig.add_subplot()\n",
    "    ax.scatter(X[:,0],X[:,1])\n",
    "    ax.scatter(singular_sample[0,0],\n",
    "               singular_sample[0,1],\n",
    "               s=150\n",
    "              )\n",
    "elif n_components == 3:\n",
    "    fig = plt.figure(figsize=(8,8))\n",
    "    #ax = fig.add_subplot(projection='3d')\n",
    "    ax = Axes3D(fig)\n",
    "    ax.scatter(X[:,0], X[:,1], X[:,2])\n",
    "    ax.scatter(\n",
    "        singular_sample[0,0],\n",
    "        singular_sample[0,1],\n",
    "        singular_sample[0,2],\n",
    "        s=60\n",
    "    )"
   ]
  },
  {
   "cell_type": "markdown",
   "id": "bea6b7c6",
   "metadata": {},
   "source": [
    "Train a k-nearest neighbor algorithm to predict the samples"
   ]
  },
  {
   "cell_type": "code",
   "execution_count": null,
   "id": "3cf6d217",
   "metadata": {},
   "outputs": [],
   "source": [
    "neigh = KNeighborsClassifier(n_neighbors=10)\n",
    "neigh.fit(vectors, labels)"
   ]
  },
  {
   "cell_type": "markdown",
   "id": "c1744447",
   "metadata": {},
   "source": [
    "Classify the samples"
   ]
  },
  {
   "cell_type": "code",
   "execution_count": null,
   "id": "8314b34e",
   "metadata": {},
   "outputs": [],
   "source": [
    "label_predictions=neigh.predict(X)\n",
    "core_samples_mask = np.zeros_like(label_predictions, dtype=bool)\n",
    "core_samples_mask[label_predictions != -1] = True\n",
    "n_noise_points = list(label_predictions).count(-1)\n",
    "#set(label_predictions)"
   ]
  },
  {
   "cell_type": "markdown",
   "id": "c9c707b3",
   "metadata": {},
   "source": [
    "Plot them"
   ]
  },
  {
   "cell_type": "code",
   "execution_count": null,
   "id": "6ff5e1a2",
   "metadata": {
    "scrolled": false
   },
   "outputs": [],
   "source": [
    "# Black removed and is used for noise instead.\n",
    "print_outliers=True\n",
    "unique_labels = set(labels)\n",
    "colors = [plt.cm.Spectral(each) for each in np.linspace(0, 1, len(unique_labels))]\n",
    "if n_components == 2:\n",
    "    fig = plt.figure(figsize=(10,10))\n",
    "    ax = fig.add_subplot(111)\n",
    "    for k, col in zip(unique_labels, colors):\n",
    "        if k == -1:\n",
    "            # Black used for noise.\n",
    "            col = [0, 0, 0, 1]\n",
    "\n",
    "        class_member_mask = label_predictions == k\n",
    "        #class_member_mask = labels == k\n",
    "        xy = X[class_member_mask & core_samples_mask]\n",
    "        ax.plot(\n",
    "            xy[:, 0],\n",
    "            xy[:, 1],\n",
    "            \"o\",\n",
    "            markerfacecolor=tuple(col),\n",
    "            markeredgecolor=\"k\",\n",
    "            markersize=14,\n",
    "        )\n",
    "\n",
    "        if print_outliers:\n",
    "            xy = X[class_member_mask & ~core_samples_mask]\n",
    "            ax.plot(\n",
    "                xy[:, 0],\n",
    "                xy[:, 1],\n",
    "                \"o\",\n",
    "                markerfacecolor=tuple(col),\n",
    "                markeredgecolor=\"k\",\n",
    "                markersize=6,\n",
    "            )\n",
    "    \n",
    "    ax.plot(\n",
    "        singular_sample[0,0],\n",
    "        singular_sample[0,1],\n",
    "        \"o\",\n",
    "        markerfacecolor=\"k\",\n",
    "        markersize=20,\n",
    "    )\n",
    "\n",
    "elif n_components == 3:\n",
    "    fig = plt.figure(figsize=(10,10))\n",
    "    ax = fig.add_subplot(111, projection='3d')\n",
    "    for k, col in zip(unique_labels, colors):\n",
    "        if k == -1:\n",
    "            # Black used for noise.\n",
    "            col = [0, 0, 0, 1]\n",
    "\n",
    "        class_member_mask = label_predictions == k\n",
    "        #class_member_mask = labels == k\n",
    "        xyz = X[class_member_mask & core_samples_mask]\n",
    "        ax.scatter(\n",
    "            xyz[:, 0],\n",
    "            xyz[:, 1],\n",
    "            xyz[:, 2],\n",
    "            \"o\",\n",
    "            c=[col],\n",
    "            s=200,\n",
    "        )\n",
    "\n",
    "        if print_outliers:\n",
    "            xyz = X[class_member_mask & ~core_samples_mask]\n",
    "            ax.scatter(\n",
    "                xyz[:, 0],\n",
    "                xyz[:, 1],\n",
    "                xyz[:, 2],\n",
    "                \"o\",\n",
    "                c=[col],\n",
    "                s=100,\n",
    "            )\n",
    "    \n",
    "    col = [1, 0, 0, 1]\n",
    "    ax.scatter(\n",
    "        singular_sample[0,0],\n",
    "        singular_sample[0,1],\n",
    "        singular_sample[0,2],\n",
    "        \"o\",\n",
    "        c=[col],\n",
    "        s=300,\n",
    "    )\n",
    "\n",
    "string0 = \"Estimated number of clusters: {}.\\n\"\n",
    "string1 = \"Estimated number of noise points during training: {}.\\n\"\n",
    "string2 = \"Number of noise points during inference: {}.\\n\"\n",
    "string3 = \"singular sample is of class: : {}.\\n\"\n",
    "string = string0 + string1 + string2 #+ string3\n",
    "plt.title(string .format(n_clusters_, n_noise_, n_noise_points, neigh.predict(singular_sample)[0]))\n",
    "\n",
    "plt.show()\n",
    "\n",
    "print(string .format(n_clusters_, n_noise_, n_noise_points, neigh.predict(singular_sample)[0]))"
   ]
  },
  {
   "cell_type": "code",
   "execution_count": null,
   "id": "edb8ffd6",
   "metadata": {},
   "outputs": [],
   "source": [
    "print('singular sample is of class: ', neigh.predict(singular_sample)[0])"
   ]
  },
  {
   "cell_type": "code",
   "execution_count": null,
   "id": "54bec2a4",
   "metadata": {},
   "outputs": [],
   "source": [
    "samples_per_cluster=[]\n",
    "for i in range(n_clusters_):\n",
    "    count = list(labels).count(i)\n",
    "    samples_per_cluster.append(count)\n",
    "    if count > 10:\n",
    "        print('Cluster number:', i)\n",
    "        print('with {} members.' .format(count))\n",
    "\n",
    "count = list(labels).count(-1)\n",
    "if count > 100:\n",
    "    print('Random points')\n",
    "    print('with {} members.' .format(count))"
   ]
  },
  {
   "cell_type": "code",
   "execution_count": null,
   "id": "6d2c2ddd",
   "metadata": {},
   "outputs": [],
   "source": [
    "dom=[i+1 for i in range(len(samples_per_cluster))]\n",
    "fig, ax = plt.subplots()\n",
    "ax.bar(dom,samples_per_cluster)\n",
    "ax.set_title('Samples per Cluster with {} total samples'.format(sum(samples_per_cluster)))\n",
    "plt.show()"
   ]
  },
  {
   "cell_type": "code",
   "execution_count": null,
   "id": "d2ab3705",
   "metadata": {},
   "outputs": [],
   "source": []
  }
 ],
 "metadata": {
  "kernelspec": {
   "display_name": "Python 3",
   "language": "python",
   "name": "python3"
  },
  "language_info": {
   "codemirror_mode": {
    "name": "ipython",
    "version": 3
   },
   "file_extension": ".py",
   "mimetype": "text/x-python",
   "name": "python",
   "nbconvert_exporter": "python",
   "pygments_lexer": "ipython3",
   "version": "3.8.10"
  }
 },
 "nbformat": 4,
 "nbformat_minor": 5
}
