{
 "cells": [
  {
   "cell_type": "markdown",
   "id": "4c7398bc",
   "metadata": {},
   "source": [
    "# Generate attentional maps and masks from image"
   ]
  },
  {
   "cell_type": "code",
   "execution_count": null,
   "id": "aebb25b1",
   "metadata": {},
   "outputs": [],
   "source": [
    "from collections import namedtuple\n",
    "\n",
    "import visualize_attention"
   ]
  },
  {
   "cell_type": "markdown",
   "id": "01bb760e",
   "metadata": {},
   "source": [
    "Compose the arguments"
   ]
  },
  {
   "cell_type": "code",
   "execution_count": null,
   "id": "796a8a55",
   "metadata": {},
   "outputs": [],
   "source": [
    "Arguments = namedtuple('Arguments', ['arch',\n",
    "                                     'patch_size',\n",
    "                                     'pretrained_weights',\n",
    "                                     'checkpoint_key',\n",
    "                                     'image_path',\n",
    "                                     'image_size',\n",
    "                                     'output_dir',\n",
    "                                     'threshold'\n",
    "                                    ])\n",
    "\n",
    "args = Arguments(arch = 'vit_small',\n",
    "                 patch_size = 16,\n",
    "                 pretrained_weights = '/media/dario/T7_Touch/SC22_Data/Pretrained_Model/checkpoint0049.pth',\n",
    "                 checkpoint_key = \"teacher\",\n",
    "                 image_path = '/media/dario/T7_Touch/SC22_Data/Morton_Spectrograms/IMG/20210703T202300-0500_Rec_100.jpg',\n",
    "                 image_size = (1024, 1024),\n",
    "                 output_dir = '/media/dario/T7_Touch/SC22_Data/Single_Image_Attentional_Maps',\n",
    "                 threshold = 0.3\n",
    "                )"
   ]
  },
  {
   "cell_type": "markdown",
   "id": "852e1528",
   "metadata": {},
   "source": [
    "Generate attentional maps and masks from image"
   ]
  },
  {
   "cell_type": "code",
   "execution_count": null,
   "id": "bcda05fd",
   "metadata": {},
   "outputs": [],
   "source": [
    "visualize_attention.main(args)"
   ]
  },
  {
   "cell_type": "markdown",
   "id": "ce1d5f51",
   "metadata": {},
   "source": [
    "# Get features from individual image"
   ]
  },
  {
   "cell_type": "code",
   "execution_count": null,
   "id": "66536ede",
   "metadata": {},
   "outputs": [],
   "source": [
    "import get_feat_from_image"
   ]
  },
  {
   "cell_type": "code",
   "execution_count": null,
   "id": "1be50ce6",
   "metadata": {},
   "outputs": [],
   "source": [
    "get_feat_from_image.main(args)"
   ]
  },
  {
   "cell_type": "code",
   "execution_count": null,
   "id": "dde7e980",
   "metadata": {},
   "outputs": [],
   "source": []
  }
 ],
 "metadata": {
  "kernelspec": {
   "display_name": "Python 3",
   "language": "python",
   "name": "python3"
  },
  "language_info": {
   "codemirror_mode": {
    "name": "ipython",
    "version": 3
   },
   "file_extension": ".py",
   "mimetype": "text/x-python",
   "name": "python",
   "nbconvert_exporter": "python",
   "pygments_lexer": "ipython3",
   "version": "3.8.10"
  }
 },
 "nbformat": 4,
 "nbformat_minor": 5
}
