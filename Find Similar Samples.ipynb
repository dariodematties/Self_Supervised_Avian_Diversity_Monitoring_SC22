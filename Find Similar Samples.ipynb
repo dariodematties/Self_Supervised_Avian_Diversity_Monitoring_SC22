{
 "cells": [
  {
   "cell_type": "markdown",
   "id": "80dfc035",
   "metadata": {},
   "source": [
    "# Bring Similar Samples"
   ]
  },
  {
   "cell_type": "code",
   "execution_count": null,
   "id": "d04475bf",
   "metadata": {},
   "outputs": [],
   "source": [
    "import os\n",
    "import re\n",
    "import numpy as np\n",
    "import torch\n",
    "from PIL import Image\n",
    "import matplotlib.pyplot as plt"
   ]
  },
  {
   "cell_type": "code",
   "execution_count": null,
   "id": "d062b900",
   "metadata": {},
   "outputs": [],
   "source": [
    "IMGS_PATH='/media/dario/T7_Touch/SC22_Data/Morton_Spectrograms/IMG/'\n",
    "IMG_NAME='20210703T202300-0500_Rec_104.jpg'"
   ]
  },
  {
   "cell_type": "code",
   "execution_count": null,
   "id": "3c083d7f",
   "metadata": {},
   "outputs": [],
   "source": [
    "img = Image.open(os.path.join(IMGS_PATH,IMG_NAME))\n",
    "imgplot = plt.imshow(np.array(img)*0.1, cmap='jet', origin='lower',\n",
    "           vmin=20, vmax=25)\n",
    "plt.axis('off')\n",
    "#plt.colorbar()\n",
    "plt.show()"
   ]
  },
  {
   "cell_type": "code",
   "execution_count": null,
   "id": "c8543179",
   "metadata": {},
   "outputs": [],
   "source": [
    "features=torch.load('/media/dario/T7_Touch/SC22_Data/features_attentional_maps_and_names/feat.pth')\n",
    "file_names=torch.load('/media/dario/T7_Touch/SC22_Data/features_attentional_maps_and_names/file_name.pth')"
   ]
  },
  {
   "cell_type": "code",
   "execution_count": null,
   "id": "3d65f5c5",
   "metadata": {},
   "outputs": [],
   "source": [
    "def get_spectrogram_file_name(fname):\n",
    "    aux=fname.cpu().detach().numpy().astype(int)\n",
    "    aux1=str(aux).replace(\" \", \"\")[1:-5]\n",
    "    aux1=aux1[:8]+'T'+aux1[8:]\n",
    "    aux1=aux1[:15]+'-'+aux1[15:]+'_Rec_'\n",
    "\n",
    "    aux2=str(aux).replace(\" \", \"\")[-5:-1].lstrip('0')\n",
    "    if len(aux2)==0:\n",
    "        aux2='0'\n",
    "\n",
    "    output=aux1+aux2+'.jpg'\n",
    "    return output"
   ]
  },
  {
   "cell_type": "code",
   "execution_count": null,
   "id": "63894d4b",
   "metadata": {},
   "outputs": [],
   "source": [
    "aux=re.sub(\"[^0-9]\", \"\", IMG_NAME)[:18]+re.sub(\"[^0-9]\", \"\", IMG_NAME)[18:].zfill(4)\n",
    "aux=np.array(list(aux), dtype=float)\n",
    "aux=torch.from_numpy(aux).float()\n",
    "\n",
    "index=torch.where(torch.all(file_names==aux,dim=1))[0].item()\n",
    "\n",
    "pdist = torch.nn.PairwiseDistance(p=2)\n",
    "distances = pdist(features[index], features)\n",
    "\n",
    "indices=torch.topk(distances, 100, largest=False)[1][1:]"
   ]
  },
  {
   "cell_type": "code",
   "execution_count": null,
   "id": "50f27115",
   "metadata": {},
   "outputs": [],
   "source": [
    "for i in indices:\n",
    "    NAME=get_spectrogram_file_name(file_names[i.item()])\n",
    "    print(NAME)\n",
    "    img = Image.open(os.path.join(IMGS_PATH,NAME))\n",
    "    imgplot = plt.imshow(np.array(img)*0.1, cmap='jet', origin='lower',\n",
    "           vmin=20, vmax=25)\n",
    "    plt.axis('off')\n",
    "    plt.show()"
   ]
  },
  {
   "cell_type": "code",
   "execution_count": null,
   "id": "38b89ca1",
   "metadata": {},
   "outputs": [],
   "source": []
  }
 ],
 "metadata": {
  "kernelspec": {
   "display_name": "Python 3",
   "language": "python",
   "name": "python3"
  },
  "language_info": {
   "codemirror_mode": {
    "name": "ipython",
    "version": 3
   },
   "file_extension": ".py",
   "mimetype": "text/x-python",
   "name": "python",
   "nbconvert_exporter": "python",
   "pygments_lexer": "ipython3",
   "version": "3.8.10"
  }
 },
 "nbformat": 4,
 "nbformat_minor": 5
}
