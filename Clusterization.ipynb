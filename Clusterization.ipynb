{
 "cells": [
  {
   "cell_type": "markdown",
   "id": "e60e4a5c",
   "metadata": {},
   "source": [
    "# Generate clusters from features"
   ]
  },
  {
   "cell_type": "code",
   "execution_count": null,
   "id": "7aa7c869",
   "metadata": {},
   "outputs": [],
   "source": [
    "from joblib import dump, load\n",
    "from collections import namedtuple\n",
    "\n",
    "import cluster_features"
   ]
  },
  {
   "cell_type": "markdown",
   "id": "3a849cef",
   "metadata": {},
   "source": [
    "Compose the arguments"
   ]
  },
  {
   "cell_type": "code",
   "execution_count": null,
   "id": "049e43e8",
   "metadata": {},
   "outputs": [],
   "source": [
    "Arguments = namedtuple('Arguments', ['features_path',\n",
    "                                     'dimensions',\n",
    "                                     'dim_red_method',\n",
    "                                     'clustering_method',\n",
    "                                     'dbscan_eps',\n",
    "                                     'dbscan_min_samples',\n",
    "                                     'kmeans_n_clusters',\n",
    "                                     'som_m',\n",
    "                                     'som_n',\n",
    "                                     'output_dir',\n",
    "                                     'subsample_feats'\n",
    "                                    ])\n",
    "\n",
    "args = Arguments(features_path = '/media/dario/T7_Touch/SC22_Data/features_attentional_maps_and_names/feat.pth',\n",
    "                 dimensions = 2,\n",
    "                 dim_red_method = 'PCA',\n",
    "                 clustering_method = 'KMEANS',\n",
    "                 dbscan_eps = 0.5,\n",
    "                 dbscan_min_samples = 30,\n",
    "                 kmeans_n_clusters = 100,\n",
    "                 som_m = 3,\n",
    "                 som_n = 3,\n",
    "                 output_dir = '/media/dario/T7_Touch/SC22_Data/Clusters',\n",
    "                 subsample_feats = None\n",
    "                )"
   ]
  },
  {
   "cell_type": "markdown",
   "id": "4e33ebc1",
   "metadata": {},
   "source": [
    "Generate Clusters"
   ]
  },
  {
   "cell_type": "code",
   "execution_count": null,
   "id": "30a24e39",
   "metadata": {},
   "outputs": [],
   "source": [
    "cluster_features.main(args)"
   ]
  },
  {
   "cell_type": "code",
   "execution_count": null,
   "id": "17d3a1ca",
   "metadata": {},
   "outputs": [],
   "source": []
  }
 ],
 "metadata": {
  "kernelspec": {
   "display_name": "Python 3",
   "language": "python",
   "name": "python3"
  },
  "language_info": {
   "codemirror_mode": {
    "name": "ipython",
    "version": 3
   },
   "file_extension": ".py",
   "mimetype": "text/x-python",
   "name": "python",
   "nbconvert_exporter": "python",
   "pygments_lexer": "ipython3",
   "version": "3.8.10"
  }
 },
 "nbformat": 4,
 "nbformat_minor": 5
}
