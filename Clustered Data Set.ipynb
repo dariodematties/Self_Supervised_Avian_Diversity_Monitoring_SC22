{
 "cells": [
  {
   "cell_type": "code",
   "execution_count": null,
   "id": "ce165d3d",
   "metadata": {},
   "outputs": [],
   "source": [
    "import shutil, os\n",
    "\n",
    "import numpy as np\n",
    "import torch\n",
    "from joblib import dump, load\n",
    "\n",
    "from sklearn.neighbors import KNeighborsClassifier"
   ]
  },
  {
   "cell_type": "code",
   "execution_count": null,
   "id": "1d28d769",
   "metadata": {},
   "outputs": [],
   "source": [
    "features=torch.load('/media/dario/T7_Touch/SC22_Data/features_attentional_maps_and_names/feat.pth')\n",
    "file_names=torch.load('/media/dario/T7_Touch/SC22_Data/features_attentional_maps_and_names/file_name.pth')"
   ]
  },
  {
   "cell_type": "code",
   "execution_count": null,
   "id": "4630f47f",
   "metadata": {},
   "outputs": [],
   "source": [
    "features.shape"
   ]
  },
  {
   "cell_type": "code",
   "execution_count": null,
   "id": "1016ce58",
   "metadata": {},
   "outputs": [],
   "source": [
    "file_names.shape"
   ]
  },
  {
   "cell_type": "code",
   "execution_count": null,
   "id": "67aa0b57",
   "metadata": {},
   "outputs": [],
   "source": [
    "clusters=np.load('/media/dario/T7_Touch/SC22_Data/Clusters/clusters.npy', allow_pickle=True)\n",
    "dim_red_model=load('/media/dario/T7_Touch/SC22_Data/Clusters/dim_red_model')\n",
    "scale_model=load('/media/dario/T7_Touch/SC22_Data/Clusters/scale_model')"
   ]
  },
  {
   "cell_type": "code",
   "execution_count": null,
   "id": "6f893cc0",
   "metadata": {},
   "outputs": [],
   "source": [
    "vectors=clusters[()]['x']\n",
    "labels=clusters[()]['y']\n",
    "neigh = KNeighborsClassifier(n_neighbors=1)\n",
    "neigh.fit(vectors, labels)"
   ]
  },
  {
   "cell_type": "code",
   "execution_count": null,
   "id": "d5f5d6f1",
   "metadata": {},
   "outputs": [],
   "source": [
    "def get_spectrogram_file_name(fname):\n",
    "    aux=fname.cpu().detach().numpy().astype(int)\n",
    "    aux1=str(aux).replace(\" \", \"\")[1:-5]\n",
    "    aux1=aux1[:8]+'T'+aux1[8:]\n",
    "    aux1=aux1[:15]+'-'+aux1[15:]+'_Rec_'\n",
    "\n",
    "    aux2=str(aux).replace(\" \", \"\")[-5:-1].lstrip('0')\n",
    "    if len(aux2)==0:\n",
    "        aux2='0'\n",
    "\n",
    "    output=aux1+aux2+'.jpg'\n",
    "    return output"
   ]
  },
  {
   "cell_type": "code",
   "execution_count": null,
   "id": "faabbf6b",
   "metadata": {},
   "outputs": [],
   "source": [
    "TEXT_FILE_NAME = 'README.txt'\n",
    "FEATURES_FILE_NAME = 'FEATURES.pth'\n",
    "DATASET_DIR = 'Labeled_Spectrogram_Images'\n",
    "\n",
    "PATH = '/media/dario/T7_Touch/SC22_Data/'\n",
    "IMGS_PATH = '/media/dario/T7_Touch/SC22_Data/Morton_Spectrograms/IMG/'\n",
    "if not os.path.isdir(os.path.join(PATH,DATASET_DIR)):\n",
    "    os.makedirs(os.path.join(PATH,DATASET_DIR))\n",
    "    \n",
    "f = open(os.path.join(PATH,DATASET_DIR,TEXT_FILE_NAME), 'w')\n",
    "LINE='Sample num\\t' + 'File name\\t' + ' Class num'            \n",
    "f.write(LINE)\n",
    "\n",
    "    \n",
    "    \n",
    "\n",
    "\n",
    "count = 0\n",
    "features_acum = []\n",
    "for (feat, fname) in zip(features, file_names):\n",
    "    file_name=get_spectrogram_file_name(fname=fname)\n",
    "    print(file_name)\n",
    "\n",
    "    file_path = os.path.join(IMGS_PATH,file_name)\n",
    "    feat=np.expand_dims(feat, axis=0)\n",
    "    r_feat=dim_red_model.transform(scale_model.transform(feat))\n",
    "    k = neigh.predict(r_feat)[0]\n",
    "    if k == -1:\n",
    "        DEST = os.path.join(PATH,DATASET_DIR,'outliers')\n",
    "        if not os.path.isdir(DEST):\n",
    "            os.makedirs(DEST)\n",
    "        \n",
    "        if os.path.exists(file_path):\n",
    "            shutil.copy(file_path, DEST)\n",
    "            \n",
    "    else:\n",
    "        DEST = os.path.join(PATH,DATASET_DIR,'Class_' + str(k))\n",
    "        if not os.path.isdir(DEST):\n",
    "            os.makedirs(DEST)\n",
    "        \n",
    "        if os.path.exists(file_path):\n",
    "            shutil.copy(file_path, DEST)\n",
    "\n",
    "            \n",
    "            \n",
    "            \n",
    "    LINE='\\n' + str(count) + '\\t' + file_name + '\\t' + str(k)\n",
    "    features_acum.append(torch.from_numpy(r_feat[0]))\n",
    "    f.write(LINE)    \n",
    "        \n",
    "    count += 1\n",
    "\n",
    "f.close()\n",
    "n_vectors=len(features_acum)\n",
    "n_feat=features_acum[0].shape[0]\n",
    "features_acum=torch.cat(features_acum)\n",
    "features_acum=torch.reshape(features_acum, (n_vectors,n_feat))\n",
    "features_acum.shape\n",
    "torch.save(features_acum, os.path.join(PATH,DATASET_DIR,FEATURES_FILE_NAME))"
   ]
  },
  {
   "cell_type": "code",
   "execution_count": null,
   "id": "41f34862",
   "metadata": {},
   "outputs": [],
   "source": []
  }
 ],
 "metadata": {
  "kernelspec": {
   "display_name": "Python 3",
   "language": "python",
   "name": "python3"
  },
  "language_info": {
   "codemirror_mode": {
    "name": "ipython",
    "version": 3
   },
   "file_extension": ".py",
   "mimetype": "text/x-python",
   "name": "python",
   "nbconvert_exporter": "python",
   "pygments_lexer": "ipython3",
   "version": "3.8.10"
  }
 },
 "nbformat": 4,
 "nbformat_minor": 5
}
